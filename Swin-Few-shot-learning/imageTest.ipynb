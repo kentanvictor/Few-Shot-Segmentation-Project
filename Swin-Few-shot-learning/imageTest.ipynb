{
 "cells": [
  {
   "cell_type": "code",
   "execution_count": 7,
   "outputs": [
    {
     "data": {
      "text/plain": "{'image': tensor([[[-0., -0., -0.,  ..., 0., -0., 0.],\n          [0., 0., 0.,  ..., -0., -0., 0.],\n          [0., 0., 0.,  ..., -0., -0., 0.],\n          ...,\n          [0., 0., 0.,  ..., 0., 0., -0.],\n          [-0., 0., 0.,  ..., 0., 0., 0.],\n          [-0., 0., 0.,  ..., -0., -0., 0.]]]),\n 'label': tensor([[0, 0, 0,  ..., 0, 0, 0],\n         [0, 0, 0,  ..., 0, 0, 0],\n         [0, 0, 0,  ..., 0, 0, 0],\n         ...,\n         [0, 0, 0,  ..., 0, 0, 0],\n         [0, 0, 0,  ..., 0, 0, 0],\n         [0, 0, 0,  ..., 0, 0, 0]]),\n 'case_name': 'case0031_slice000'}"
     },
     "execution_count": 7,
     "metadata": {},
     "output_type": "execute_result"
    }
   ],
   "source": [
    "from torchvision import transforms\n",
    "from TransUNet.datasets.dataset_synapse import Synapse_dataset, RandomGenerator\n",
    "\n",
    "# max_iterations = args.max_iterations\n",
    "db_train = Synapse_dataset(base_dir='data/Synapse/train_npz', list_dir='TransUNet/lists/lists_Synapse', split=\"train\",\n",
    "                               transform=transforms.Compose(\n",
    "                                   [RandomGenerator(output_size=[256, 256])]))\n",
    "\n",
    "db_train.__getitem__(0)"
   ],
   "metadata": {
    "collapsed": false,
    "pycharm": {
     "name": "#%%\n"
    }
   }
  },
  {
   "cell_type": "code",
   "execution_count": null,
   "outputs": [],
   "source": [],
   "metadata": {
    "collapsed": false,
    "pycharm": {
     "name": "#%%\n"
    }
   }
  }
 ],
 "metadata": {
  "kernelspec": {
   "display_name": "Python 3",
   "language": "python",
   "name": "python3"
  },
  "language_info": {
   "codemirror_mode": {
    "name": "ipython",
    "version": 2
   },
   "file_extension": ".py",
   "mimetype": "text/x-python",
   "name": "python",
   "nbconvert_exporter": "python",
   "pygments_lexer": "ipython2",
   "version": "2.7.6"
  }
 },
 "nbformat": 4,
 "nbformat_minor": 0
}